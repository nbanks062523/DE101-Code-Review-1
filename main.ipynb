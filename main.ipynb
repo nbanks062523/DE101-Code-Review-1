{
 "cells": [
  {
   "cell_type": "code",
   "execution_count": 2,
   "metadata": {},
   "outputs": [
    {
     "name": "stdout",
     "output_type": "stream",
     "text": [
      "[0.5, 'I love puppies!', 15]\n",
      "My name is Nikki and I love puppies!\n",
      "{'flash': 1, 'Chloe': 6, 'Kiki': 20}\n"
     ]
    }
   ],
   "source": [
    "# Welcome to our puppy barn !\n",
    "## Please take a moment to review our inventory\n",
    "\n",
    "## Below is a \"grab-bag\" list of different data types (float,string and integer)\n",
    "grab_bag= [.5,\"I love puppies!\",15]\n",
    "print(grab_bag)\n",
    "\n",
    "## Now for a little list fun!\n",
    "print(\"My name is Nikki and\",grab_bag[1])\n",
    "\n",
    "## This is a dictionary of our puppies and their ages\n",
    "puppies_dict= {\"flash\":1,\"Chloe\":6,\"Kiki\":20}\n",
    "print(puppies_dict)"
   ]
  }
 ],
 "metadata": {
  "kernelspec": {
   "display_name": "venv",
   "language": "python",
   "name": "python3"
  },
  "language_info": {
   "codemirror_mode": {
    "name": "ipython",
    "version": 3
   },
   "file_extension": ".py",
   "mimetype": "text/x-python",
   "name": "python",
   "nbconvert_exporter": "python",
   "pygments_lexer": "ipython3",
   "version": "3.10.12"
  }
 },
 "nbformat": 4,
 "nbformat_minor": 2
}
